{
 "cells": [
  {
   "cell_type": "markdown",
   "metadata": {},
   "source": [
    "# Lezione 1 - Esercizi\n",
    "\n",
    "#### Prendiamo dimestichezza con Python dentro al Jupyter Notebook e con le librerie per fare grafici.\n",
    "\n",
    "Provate a svolgere i seguenti esercizi: <br>\n",
    "1) [Fattoriale](#section1)<a href='#section1'></a> <br>\n",
    "2) [Serie di Fibonacci](#section2)<a href='#section2'></a><br>\n",
    "3) [Esempio di Plot](#section3)<a href='#section3'></a> <br>\n",
    "4) [Esercizio di Plot di un file root](#section4)<a href='#section4'></a> <br>\n",
    "5) [Metodo di Eulero](#section5)<a href='#section5'></a> <br>\n",
    "6) [Fit di curve lineari](#section6)<a href='#section6'></a>"
   ]
  },
  {
   "cell_type": "markdown",
   "metadata": {},
   "source": [
    "<a id='section1'></a>\n",
    "## 1) Fattoriale"
   ]
  },
  {
   "cell_type": "markdown",
   "metadata": {},
   "source": [
    "Scrivere in Python una funzione fatt che calcola il fattoriale di un numero dato come parametro. <br>\n",
    "Se siete coraggiosi provate a scriverla ricorsiva!"
   ]
  },
  {
   "cell_type": "code",
   "execution_count": 1,
   "metadata": {},
   "outputs": [
    {
     "data": {
      "text/plain": [
       "720"
      ]
     },
     "execution_count": 1,
     "metadata": {},
     "output_type": "execute_result"
    }
   ],
   "source": [
    "def fatt(d):\n",
    "    \"\"\" La funzione calcola il fattoriale del numero d passato come parametro.\n",
    "    La funzione restituisce -1 in caso di errore.\n",
    "    \n",
    "    >>> fatt(6)\n",
    "    720\n",
    "    \"\"\"\n",
    "    \n",
    "    if type(d) is not int or not d >= 0:\n",
    "        print(\"Errore il fattoriale si calcola solo su numeri positivi!\")\n",
    "        return -1\n",
    "    \n",
    "    risultato = 1\n",
    "    for n in range(1, d + 1):\n",
    "        risultato *= n\n",
    "    \n",
    "    return risultato\n",
    "\n",
    "\n",
    "fatt(6)"
   ]
  },
  {
   "cell_type": "code",
   "execution_count": 2,
   "metadata": {},
   "outputs": [
    {
     "data": {
      "text/plain": [
       "720"
      ]
     },
     "execution_count": 2,
     "metadata": {},
     "output_type": "execute_result"
    }
   ],
   "source": [
    "def fatt(d):\n",
    "    \"\"\" La funzione calcola il fattoriale del numero d passato come parametro.\n",
    "    La funzione restituisce -1 in caso di errore.\n",
    "    \n",
    "    >>> fatt(6)\n",
    "    720\n",
    "    \"\"\"\n",
    "    \n",
    "    if type(d) is not int or not d >= 0:\n",
    "        print(\"Errore il fattoriale si calcola solo su numeri positivi!\")\n",
    "        return -1\n",
    "    \n",
    "    if d == 0:\n",
    "        return 1\n",
    "    \n",
    "    return d * fatt(d-1)\n",
    "\n",
    "\n",
    "fatt(6)"
   ]
  },
  {
   "cell_type": "markdown",
   "metadata": {},
   "source": [
    "<a id='section2'></a>\n",
    "## 2) Serie di Fibonacci"
   ]
  },
  {
   "cell_type": "markdown",
   "metadata": {},
   "source": [
    "Scrivere una funzione Python che restituisce i primi n numeri della serie di Fibonacci."
   ]
  },
  {
   "cell_type": "code",
   "execution_count": 3,
   "metadata": {},
   "outputs": [
    {
     "data": {
      "text/plain": [
       "[0, 1, 1, 2, 3, 5, 8, 13, 21, 34]"
      ]
     },
     "execution_count": 3,
     "metadata": {},
     "output_type": "execute_result"
    }
   ],
   "source": [
    "def fibonacci(nterms):\n",
    "    \"\"\" La funzione restituisce una lista con i primi nterms numeri della serie di Fibonacci.\n",
    "    \n",
    "    >>> fib(10)\n",
    "    [0, 1, 1, 2, 3, 5, 8, 13, 21, 34]\n",
    "    \"\"\"\n",
    "    \n",
    "    if type(nterms) is not int or not nterms >= 0:\n",
    "        print(\"Il parametro deve essere un numero e deve essere maggiore di zero!\")\n",
    "        return None\n",
    "\n",
    "    # primi due numeri della serie\n",
    "    n1, n2 = 0, 1\n",
    "    \n",
    "    lista = []\n",
    "    for count in range(0, nterms):\n",
    "         lista.append(n1)\n",
    "         n1, n2 = n2, n1 + n2\n",
    "\n",
    "    return lista\n",
    "\n",
    "fibonacci(10)"
   ]
  },
  {
   "cell_type": "markdown",
   "metadata": {},
   "source": [
    "<a id='section3'></a>\n",
    "## 3) Esempio di plot"
   ]
  },
  {
   "cell_type": "markdown",
   "metadata": {},
   "source": [
    "Per fare dei grafici è possibile utilizzare la libreria `matplotlib`."
   ]
  },
  {
   "cell_type": "code",
   "execution_count": 6,
   "metadata": {},
   "outputs": [],
   "source": [
    "import numpy as np\n",
    "import matplotlib.pyplot as plt"
   ]
  },
  {
   "cell_type": "code",
   "execution_count": 7,
   "metadata": {},
   "outputs": [
    {
     "name": "stdout",
     "output_type": "stream",
     "text": [
      "Help on function linspace in module numpy:\n",
      "\n",
      "linspace(start, stop, num=50, endpoint=True, retstep=False, dtype=None, axis=0)\n",
      "    Return evenly spaced numbers over a specified interval.\n",
      "    \n",
      "    Returns `num` evenly spaced samples, calculated over the\n",
      "    interval [`start`, `stop`].\n",
      "    \n",
      "    The endpoint of the interval can optionally be excluded.\n",
      "    \n",
      "    .. versionchanged:: 1.16.0\n",
      "        Non-scalar `start` and `stop` are now supported.\n",
      "    \n",
      "    Parameters\n",
      "    ----------\n",
      "    start : array_like\n",
      "        The starting value of the sequence.\n",
      "    stop : array_like\n",
      "        The end value of the sequence, unless `endpoint` is set to False.\n",
      "        In that case, the sequence consists of all but the last of ``num + 1``\n",
      "        evenly spaced samples, so that `stop` is excluded.  Note that the step\n",
      "        size changes when `endpoint` is False.\n",
      "    num : int, optional\n",
      "        Number of samples to generate. Default is 50. Must be non-negative.\n",
      "    endpoint : bool, optional\n",
      "        If True, `stop` is the last sample. Otherwise, it is not included.\n",
      "        Default is True.\n",
      "    retstep : bool, optional\n",
      "        If True, return (`samples`, `step`), where `step` is the spacing\n",
      "        between samples.\n",
      "    dtype : dtype, optional\n",
      "        The type of the output array.  If `dtype` is not given, infer the data\n",
      "        type from the other input arguments.\n",
      "    \n",
      "        .. versionadded:: 1.9.0\n",
      "    \n",
      "    axis : int, optional\n",
      "        The axis in the result to store the samples.  Relevant only if start\n",
      "        or stop are array-like.  By default (0), the samples will be along a\n",
      "        new axis inserted at the beginning. Use -1 to get an axis at the end.\n",
      "    \n",
      "        .. versionadded:: 1.16.0\n",
      "    \n",
      "    Returns\n",
      "    -------\n",
      "    samples : ndarray\n",
      "        There are `num` equally spaced samples in the closed interval\n",
      "        ``[start, stop]`` or the half-open interval ``[start, stop)``\n",
      "        (depending on whether `endpoint` is True or False).\n",
      "    step : float, optional\n",
      "        Only returned if `retstep` is True\n",
      "    \n",
      "        Size of spacing between samples.\n",
      "    \n",
      "    \n",
      "    See Also\n",
      "    --------\n",
      "    arange : Similar to `linspace`, but uses a step size (instead of the\n",
      "             number of samples).\n",
      "    geomspace : Similar to `linspace`, but with numbers spaced evenly on a log\n",
      "                scale (a geometric progression).\n",
      "    logspace : Similar to `geomspace`, but with the end points specified as\n",
      "               logarithms.\n",
      "    \n",
      "    Examples\n",
      "    --------\n",
      "    >>> np.linspace(2.0, 3.0, num=5)\n",
      "    array([2.  , 2.25, 2.5 , 2.75, 3.  ])\n",
      "    >>> np.linspace(2.0, 3.0, num=5, endpoint=False)\n",
      "    array([2. ,  2.2,  2.4,  2.6,  2.8])\n",
      "    >>> np.linspace(2.0, 3.0, num=5, retstep=True)\n",
      "    (array([2.  ,  2.25,  2.5 ,  2.75,  3.  ]), 0.25)\n",
      "    \n",
      "    Graphical illustration:\n",
      "    \n",
      "    >>> import matplotlib.pyplot as plt\n",
      "    >>> N = 8\n",
      "    >>> y = np.zeros(N)\n",
      "    >>> x1 = np.linspace(0, 10, N, endpoint=True)\n",
      "    >>> x2 = np.linspace(0, 10, N, endpoint=False)\n",
      "    >>> plt.plot(x1, y, 'o')\n",
      "    [<matplotlib.lines.Line2D object at 0x...>]\n",
      "    >>> plt.plot(x2, y + 0.5, 'o')\n",
      "    [<matplotlib.lines.Line2D object at 0x...>]\n",
      "    >>> plt.ylim([-0.5, 1])\n",
      "    (-0.5, 1)\n",
      "    >>> plt.show()\n",
      "\n"
     ]
    }
   ],
   "source": [
    "help(np.linspace)"
   ]
  },
  {
   "cell_type": "markdown",
   "metadata": {},
   "source": [
    "Proviamo quindi a disegnare delle funzioni, ad esempio funzioni trigonometriche:"
   ]
  },
  {
   "cell_type": "code",
   "execution_count": 8,
   "metadata": {},
   "outputs": [],
   "source": [
    "x1 = np.linspace(0.0, 5.0)\n",
    "x2 = np.linspace(0.0, 5.0)\n",
    "\n",
    "y1 = np.cos(2 * np.pi * x1) * np.exp(-x1)\n",
    "y2 = np.cos(2 * np.pi * x2)"
   ]
  },
  {
   "cell_type": "code",
   "execution_count": 12,
   "metadata": {},
   "outputs": [
    {
     "data": {
      "image/png": "[encoded data removed]",
      "text/plain": [
       "<Figure size 432x288 with 1 Axes>"
      ]
     },
     "metadata": {
      "needs_background": "light"
     },
     "output_type": "display_data"
    },
    {
     "data": {
      "image/png": "[encoded data removed]",
      "text/plain": [
       "<Figure size 432x288 with 1 Axes>"
      ]
     },
     "metadata": {
      "needs_background": "light"
     },
     "output_type": "display_data"
    }
   ],
   "source": [
    "plt.plot(x1, y1, 'o-')\n",
    "plt.xlabel('time (s)')\n",
    "plt.ylabel('Damped oscillation')\n",
    "plt.show()\n",
    "\n",
    "plt.plot(x2, y2, 'o-')\n",
    "plt.xlabel('time (s)')\n",
    "plt.ylabel('Undamped')\n",
    "plt.show()"
   ]
  },
  {
   "cell_type": "code",
   "execution_count": 10,
   "metadata": {},
   "outputs": [
    {
     "data": {
      "text/plain": [
       "<matplotlib.legend.Legend at 0x7fe10db1c340>"
      ]
     },
     "execution_count": 10,
     "metadata": {},
     "output_type": "execute_result"
    },
    {
     "data": {
      "image/png": "[encoded data removed]",
      "text/plain": [
       "<Figure size 432x288 with 1 Axes>"
      ]
     },
     "metadata": {
      "needs_background": "light"
     },
     "output_type": "display_data"
    }
   ],
   "source": [
    "import seaborn as sns\n",
    "ax = sns.lineplot(x1, y1, label='Damped oscillation')\n",
    "ax = sns.lineplot(x2, y2, label='Undamped')\n",
    "ax.set(xlabel='time (s)')\n",
    "ax.legend(loc='upper right')"
   ]
  },
  {
   "cell_type": "markdown",
   "metadata": {},
   "source": [
    "<a id='section4'></a>\n",
    "## 4) Esercizio di Plot di un file root"
   ]
  },
  {
   "cell_type": "markdown",
   "metadata": {},
   "source": [
    "In questo esercizio utilizzeremo anche una libreria aggiuntiva che si chiama `uproot` e che serve a leggere i files in formato root."
   ]
  },
  {
   "cell_type": "code",
   "execution_count": 9,
   "metadata": {},
   "outputs": [
    {
     "name": "stdout",
     "output_type": "stream",
     "text": [
      "Requirement already satisfied: uproot in /opt/anaconda3/envs/jupyter/lib/python3.8/site-packages (4.0.1)\n",
      "Requirement already satisfied: numpy in /opt/anaconda3/envs/jupyter/lib/python3.8/site-packages (from uproot) (1.19.1)\n"
     ]
    }
   ],
   "source": [
    "!pip install uproot"
   ]
  },
  {
   "cell_type": "code",
   "execution_count": 13,
   "metadata": {},
   "outputs": [
    {
     "name": "stdout",
     "output_type": "stream",
     "text": [
      "         f_mass4l     f_massjj\n",
      "0       91.098129  -999.000000\n",
      "1      201.847610  -999.000000\n",
      "2       89.279076  -999.000000\n",
      "3      586.597412  1353.025513\n",
      "4      135.589798  -999.000000\n",
      "...           ...          ...\n",
      "58102   89.582817  -999.000000\n",
      "58103  252.845184  -999.000000\n",
      "58104   90.129845  -999.000000\n",
      "58105  250.977417  -999.000000\n",
      "58106  229.470154  -999.000000\n",
      "\n",
      "[58107 rows x 2 columns]\n"
     ]
    }
   ],
   "source": [
    "import uproot\n",
    "import numpy as np\n",
    "import pandas as pd\n",
    "import matplotlib.pyplot as plt\n",
    "%matplotlib inline\n",
    "\n",
    "treename = 'HZZ4LeptonsAnalysisReduced'\n",
    "filename ='data/ntuple_4mu_bkg.root'\n",
    "VARS = ['f_mass4l', 'f_massjj']\n",
    "\n",
    "upfile = uproot.open(filename)\n",
    "params = upfile[treename].arrays(VARS)\n",
    "\n",
    "df = pd.DataFrame(params.tolist())\n",
    "print (df)"
   ]
  },
  {
   "cell_type": "code",
   "execution_count": 11,
   "metadata": {},
   "outputs": [
    {
     "data": {
      "text/html": [
       "<div>\n",
       "<style scoped>\n",
       "    .dataframe tbody tr th:only-of-type {\n",
       "        vertical-align: middle;\n",
       "    }\n",
       "\n",
       "    .dataframe tbody tr th {\n",
       "        vertical-align: top;\n",
       "    }\n",
       "\n",
       "    .dataframe thead th {\n",
       "        text-align: right;\n",
       "    }\n",
       "</style>\n",
       "<table border=\"1\" class=\"dataframe\">\n",
       "  <thead>\n",
       "    <tr style=\"text-align: right;\">\n",
       "      <th></th>\n",
       "      <th>f_mass4l</th>\n",
       "      <th>f_massjj</th>\n",
       "    </tr>\n",
       "  </thead>\n",
       "  <tbody>\n",
       "    <tr>\n",
       "      <th>count</th>\n",
       "      <td>58107.000000</td>\n",
       "      <td>58107.000000</td>\n",
       "    </tr>\n",
       "    <tr>\n",
       "      <th>mean</th>\n",
       "      <td>214.346078</td>\n",
       "      <td>-891.822452</td>\n",
       "    </tr>\n",
       "    <tr>\n",
       "      <th>std</th>\n",
       "      <td>123.011837</td>\n",
       "      <td>352.657971</td>\n",
       "    </tr>\n",
       "    <tr>\n",
       "      <th>min</th>\n",
       "      <td>70.003792</td>\n",
       "      <td>-999.000000</td>\n",
       "    </tr>\n",
       "    <tr>\n",
       "      <th>25%</th>\n",
       "      <td>112.146431</td>\n",
       "      <td>-999.000000</td>\n",
       "    </tr>\n",
       "    <tr>\n",
       "      <th>50%</th>\n",
       "      <td>204.004684</td>\n",
       "      <td>-999.000000</td>\n",
       "    </tr>\n",
       "    <tr>\n",
       "      <th>75%</th>\n",
       "      <td>259.251389</td>\n",
       "      <td>-999.000000</td>\n",
       "    </tr>\n",
       "    <tr>\n",
       "      <th>max</th>\n",
       "      <td>2275.151367</td>\n",
       "      <td>2427.755859</td>\n",
       "    </tr>\n",
       "  </tbody>\n",
       "</table>\n",
       "</div>"
      ],
      "text/plain": [
       "           f_mass4l      f_massjj\n",
       "count  58107.000000  58107.000000\n",
       "mean     214.346078   -891.822452\n",
       "std      123.011837    352.657971\n",
       "min       70.003792   -999.000000\n",
       "25%      112.146431   -999.000000\n",
       "50%      204.004684   -999.000000\n",
       "75%      259.251389   -999.000000\n",
       "max     2275.151367   2427.755859"
      ]
     },
     "execution_count": 11,
     "metadata": {},
     "output_type": "execute_result"
    }
   ],
   "source": [
    "df.describe()"
   ]
  },
  {
   "cell_type": "markdown",
   "metadata": {},
   "source": [
    "Proviamo ora a plottare questi dati (facciamo un istogramma, o altre rappresentazioni che doveste trovare utili)."
   ]
  },
  {
   "cell_type": "code",
   "execution_count": 14,
   "metadata": {},
   "outputs": [
    {
     "data": {
      "text/plain": [
       "<matplotlib.legend.Legend at 0x7fe10f744f10>"
      ]
     },
     "execution_count": 14,
     "metadata": {},
     "output_type": "execute_result"
    },
    {
     "data": {
      "image/png": "[encoded data removed]",
      "text/plain": [
       "<Figure size 432x288 with 1 Axes>"
      ]
     },
     "metadata": {
      "needs_background": "light"
     },
     "output_type": "display_data"
    }
   ],
   "source": [
    "ax = df[VARS[0]].plot.hist(bins=10, label=VARS[0], histtype='step')\n",
    "ax = df[VARS[1]].plot.hist(bins=10, label=VARS[1], histtype='step')\n",
    "plt.legend(loc='upper right')"
   ]
  },
  {
   "cell_type": "code",
   "execution_count": 15,
   "metadata": {},
   "outputs": [
    {
     "data": {
      "text/plain": [
       "(0.0, 1000.0)"
      ]
     },
     "execution_count": 15,
     "metadata": {},
     "output_type": "execute_result"
    },
    {
     "data": {
      "image/png": "[encoded data removed]",
      "text/plain": [
       "<Figure size 432x288 with 1 Axes>"
      ]
     },
     "metadata": {
      "needs_background": "light"
     },
     "output_type": "display_data"
    }
   ],
   "source": [
    "ax = df[VARS[0]].plot.hist(bins=10, label=VARS[0], histtype='step')\n",
    "ax = df[VARS[1]].plot.hist(bins=10, label=VARS[1], histtype='step')\n",
    "plt.legend(loc='upper right')\n",
    "\n",
    "ax.set_xlim(0, 1000)"
   ]
  },
  {
   "cell_type": "code",
   "execution_count": 16,
   "metadata": {},
   "outputs": [
    {
     "data": {
      "text/plain": [
       "(0.0, 1000.0)"
      ]
     },
     "execution_count": 16,
     "metadata": {},
     "output_type": "execute_result"
    },
    {
     "data": {
      "image/png": "[encoded data removed]",
      "text/plain": [
       "<Figure size 432x288 with 1 Axes>"
      ]
     },
     "metadata": {
      "needs_background": "light"
     },
     "output_type": "display_data"
    }
   ],
   "source": [
    "import seaborn as sns\n",
    "ax = sns.distplot(df[VARS[0]], bins=10, kde=False)\n",
    "ax = sns.distplot(df[VARS[1]], bins=10, kde=False)\n",
    "\n",
    "ax.set_xlim(0, 1000)"
   ]
  },
  {
   "cell_type": "code",
   "execution_count": 17,
   "metadata": {},
   "outputs": [
    {
     "data": {
      "text/plain": [
       "(0.0, 1000.0)"
      ]
     },
     "execution_count": 17,
     "metadata": {},
     "output_type": "execute_result"
    },
    {
     "data": {
      "image/png": "[encoded data removed]",
      "text/plain": [
       "<Figure size 432x288 with 1 Axes>"
      ]
     },
     "metadata": {
      "needs_background": "light"
     },
     "output_type": "display_data"
    }
   ],
   "source": [
    "ax = sns.kdeplot(df[VARS[0]], shade=True, bw=1)\n",
    "ax = sns.kdeplot(df[VARS[1]], shade=True, bw=1)\n",
    "\n",
    "ax.set_xlim(0, 1000)"
   ]
  },
  {
   "cell_type": "markdown",
   "metadata": {},
   "source": [
    "<a id='section5'></a>\n",
    "## 5) Metodo di Eulero"
   ]
  },
  {
   "cell_type": "markdown",
   "metadata": {},
   "source": [
    "Cominciamo con le equazioni differenziali per la caduta libera:\n",
    "\n",
    "$$v = \\frac{dx}{dt} \\qquad a = \\frac{dv}{dt}$$\n",
    "\n",
    "dove $a$ è una costante. Possiamo riorganizzare queste equazioni:\n",
    "\n",
    "$$dx = v \\; dt \\qquad dv = a \\; dt$$\n",
    "\n",
    "Ricordati cosa significano $dx$, $dt$ e $dv$: questi sono i cambiamenti infinitesimi di posizione, tempo e velocità. Questa forma delle equazioni suggerisce un possibile modo di approssimare la soluzione alle equazioni differenziali: prendere piccoli passi di tempo $dt$ e calcolare la nuova $x$ e $v$ per ogni fase temporale.\n",
    "\n",
    "$$x_{new} = x_{old} + v \\; dt \\qquad v_{new} = v_{old} + a \\; dt$$\n",
    "\n",
    "Questo è chiamato \"metodo di Eulero\". Dobbiamo compiere piccoli passi per ottenere una buona soluzione, il che significa che dobbiamo compiere molti passi per arrivare ovunque. Ecco a cosa serve il computer: fare tutti quei calcoli noiosi!\n",
    "\n",
    "Proviamo a scrivere un programma che, dato un oggetto con un'altezza iniziale e una velocità iniziate, descriva il moto di caduta libera di questo oggetto e ne disegni la traiettoria seguita."
   ]
  },
  {
   "cell_type": "code",
   "execution_count": 18,
   "metadata": {},
   "outputs": [
    {
     "data": {
      "text/plain": [
       "<matplotlib.legend.Legend at 0x7fe1109c08b0>"
      ]
     },
     "execution_count": 18,
     "metadata": {},
     "output_type": "execute_result"
    },
    {
     "data": {
      "image/png": "[encoded data removed]",
      "text/plain": [
       "<Figure size 432x288 with 1 Axes>"
      ]
     },
     "metadata": {
      "needs_background": "light"
     },
     "output_type": "display_data"
    }
   ],
   "source": [
    "g = 9.8     # We are on Earth.\n",
    "dt = 0.1    # 1/10 second time step\n",
    "N = 100     # I'd like to see 100 points in the answer array\n",
    "vi = 50.0    # initial velocity\n",
    "xi = 25.0    # initial position\n",
    "\n",
    "# first, set up variables and almost-empty arrays to hold our answers:\n",
    "t = 0\n",
    "x = xi\n",
    "v = vi\n",
    "time = [0]       # initial value of time is zero!\n",
    "height = [xi]    # initial height is xi\n",
    "velocity = [vi]  # initial velocity is vi\n",
    "# Note that 't', 'x' and 'v' are the current time, position and velocity, but \n",
    "# 'time', 'height' and 'velocity' are arrays that will contain all the positions\n",
    "# and velocities at all values of 'time'.\n",
    "\n",
    "# Now let's use Euler's method to find the position and velocity.\n",
    "for j in range(N):\n",
    "    # here are the calculations:\n",
    "    t = t + dt\n",
    "    x = x + v * dt\n",
    "    v = v - g * dt\n",
    "    # And here we put those calculations in the arrays to plot later:\n",
    "    time.append(t)\n",
    "    height.append(x)\n",
    "    velocity.append(v)\n",
    "\n",
    "# Now that the calculations are done, plot the position:\n",
    "import seaborn as sns\n",
    "\n",
    "# just for comparison, I'll also plot the known solution!\n",
    "# and here the computed trajectory\n",
    "ax = sns.lineplot(time, [xi + vi*t - 0.5*g*t**2 for t in time], label='theoretical')\n",
    "ax = sns.lineplot(time, height, label='observations', marker=\"o\")\n",
    "\n",
    "ax.set(xlabel='Time (s)', ylabel='Height (m)')\n",
    "ax.legend(loc='upper right')"
   ]
  },
  {
   "cell_type": "markdown",
   "metadata": {},
   "source": [
    "<a id='section6'></a>\n",
    "## 6) Fit di curve lineare"
   ]
  },
  {
   "cell_type": "markdown",
   "metadata": {},
   "source": [
    "È spesso il caso nei laboratori di fisica introduttiva (e in Advanced Physics Labs!) Che abbiamo un set di dati e un modello teorico per i dati, e vorremmo trovare i parametri del modello che rendono il modello più adatto al set di dati.\n",
    "\n",
    "Ad esempio, uno studente del mio laboratorio stava recentemente lavorando a un sensore che avrebbe dovuto tracciare la posizione angolare di un magnete rotante, ma sembrava che il sensore fosse calibrato male. Era difficile dirlo con certezza, tuttavia, poiché il sensore (se funzionava correttamente) riportava la posizione in unità di $\\frac{1}{1024}^{o}$ di una rivoluzione, e non era affatto spento se lo era affatto. Lo spostamento manuale del magnete non era sufficientemente preciso per determinare se l'errore di calibrazione fosse reale e se fosse reale se fosse coerente.\n",
    "\n",
    "Per indagare ulteriormente sul sistema, ha registrato la posizione del magnete riportata dal sensore ad ogni rotazione, per 10 rotazioni. Poteva solo \"osservare\" le rotazioni, quindi i suoi dati non erano esatti ma era certamente entro 2 gradi (5,7 unità del sensore) di \"zero\" ogni volta. I suoi dati sono di seguito.\n",
    "\n",
    "| turns | position |\n",
    "|---|---|\n",
    "|0 | 0 |\n",
    "|1 | -2 |\n",
    "|2 | -11 |\n",
    "|3 | -15 |\n",
    "|4 | -24 |\n",
    "|5 | -32 |\n",
    "|6 | -40 |\n",
    "|7 | -50 |\n",
    "|8 | -52 |\n",
    "|9 | -62 |\n",
    "|10 | -65 |\n",
    "\n",
    "Sulla base di questi dati, potremmo dire che il sensore è stato calibrato male o è stato solo un errore casuale? Se è stato calibrato male, di quanto è stato calibrato male? In altre parole, se il sensore doveva emettere 1024 impulsi per rotazione, quanti impulsi stava effettivamente emettendo per rotazione?\n",
    "\n",
    "Per rispondere a questa domanda, traccia i dati. I punti dati sono sparsi nella media o c'è una tendenza definita? La tendenza è lineare? Se i dati sono lineari, qual è la pendenza? Quanti impulsi per giro generava realmente il sensore?\n",
    "\n",
    "Metti i dati in due elenchi Python:\n",
    "\n",
    "``\n",
    "turns = [0, 1, 2, 3, ... 10]\n",
    "position = [0, -2, -11, ... -65]\n",
    "``\n",
    "\n",
    "La funzione `polyfit()` in python esegue l'adattamento della curva dei polinomi, inclusi i polinomi del primo ordine (lineari)."
   ]
  },
  {
   "cell_type": "code",
   "execution_count": 26,
   "metadata": {},
   "outputs": [
    {
     "name": "stdout",
     "output_type": "stream",
     "text": [
      "Help on function polyfit in module numpy:\n",
      "\n",
      "polyfit(x, y, deg, rcond=None, full=False, w=None, cov=False)\n",
      "    Least squares polynomial fit.\n",
      "    \n",
      "    Fit a polynomial ``p(x) = p[0] * x**deg + ... + p[deg]`` of degree `deg`\n",
      "    to points `(x, y)`. Returns a vector of coefficients `p` that minimises\n",
      "    the squared error in the order `deg`, `deg-1`, ... `0`.\n",
      "    \n",
      "    The `Polynomial.fit <numpy.polynomial.polynomial.Polynomial.fit>` class\n",
      "    method is recommended for new code as it is more stable numerically. See\n",
      "    the documentation of the method for more information.\n",
      "    \n",
      "    Parameters\n",
      "    ----------\n",
      "    x : array_like, shape (M,)\n",
      "        x-coordinates of the M sample points ``(x[i], y[i])``.\n",
      "    y : array_like, shape (M,) or (M, K)\n",
      "        y-coordinates of the sample points. Several data sets of sample\n",
      "        points sharing the same x-coordinates can be fitted at once by\n",
      "        passing in a 2D-array that contains one dataset per column.\n",
      "    deg : int\n",
      "        Degree of the fitting polynomial\n",
      "    rcond : float, optional\n",
      "        Relative condition number of the fit. Singular values smaller than\n",
      "        this relative to the largest singular value will be ignored. The\n",
      "        default value is len(x)*eps, where eps is the relative precision of\n",
      "        the float type, about 2e-16 in most cases.\n",
      "    full : bool, optional\n",
      "        Switch determining nature of return value. When it is False (the\n",
      "        default) just the coefficients are returned, when True diagnostic\n",
      "        information from the singular value decomposition is also returned.\n",
      "    w : array_like, shape (M,), optional\n",
      "        Weights to apply to the y-coordinates of the sample points. For\n",
      "        gaussian uncertainties, use 1/sigma (not 1/sigma**2).\n",
      "    cov : bool or str, optional\n",
      "        If given and not `False`, return not just the estimate but also its\n",
      "        covariance matrix. By default, the covariance are scaled by\n",
      "        chi2/sqrt(N-dof), i.e., the weights are presumed to be unreliable\n",
      "        except in a relative sense and everything is scaled such that the\n",
      "        reduced chi2 is unity. This scaling is omitted if ``cov='unscaled'``,\n",
      "        as is relevant for the case that the weights are 1/sigma**2, with\n",
      "        sigma known to be a reliable estimate of the uncertainty.\n",
      "    \n",
      "    Returns\n",
      "    -------\n",
      "    p : ndarray, shape (deg + 1,) or (deg + 1, K)\n",
      "        Polynomial coefficients, highest power first.  If `y` was 2-D, the\n",
      "        coefficients for `k`-th data set are in ``p[:,k]``.\n",
      "    \n",
      "    residuals, rank, singular_values, rcond\n",
      "        Present only if `full` = True.  Residuals is sum of squared residuals\n",
      "        of the least-squares fit, the effective rank of the scaled Vandermonde\n",
      "        coefficient matrix, its singular values, and the specified value of\n",
      "        `rcond`. For more details, see `linalg.lstsq`.\n",
      "    \n",
      "    V : ndarray, shape (M,M) or (M,M,K)\n",
      "        Present only if `full` = False and `cov`=True.  The covariance\n",
      "        matrix of the polynomial coefficient estimates.  The diagonal of\n",
      "        this matrix are the variance estimates for each coefficient.  If y\n",
      "        is a 2-D array, then the covariance matrix for the `k`-th data set\n",
      "        are in ``V[:,:,k]``\n",
      "    \n",
      "    \n",
      "    Warns\n",
      "    -----\n",
      "    RankWarning\n",
      "        The rank of the coefficient matrix in the least-squares fit is\n",
      "        deficient. The warning is only raised if `full` = False.\n",
      "    \n",
      "        The warnings can be turned off by\n",
      "    \n",
      "        >>> import warnings\n",
      "        >>> warnings.simplefilter('ignore', np.RankWarning)\n",
      "    \n",
      "    See Also\n",
      "    --------\n",
      "    polyval : Compute polynomial values.\n",
      "    linalg.lstsq : Computes a least-squares fit.\n",
      "    scipy.interpolate.UnivariateSpline : Computes spline fits.\n",
      "    \n",
      "    Notes\n",
      "    -----\n",
      "    The solution minimizes the squared error\n",
      "    \n",
      "    .. math ::\n",
      "        E = \\sum_{j=0}^k |p(x_j) - y_j|^2\n",
      "    \n",
      "    in the equations::\n",
      "    \n",
      "        x[0]**n * p[0] + ... + x[0] * p[n-1] + p[n] = y[0]\n",
      "        x[1]**n * p[0] + ... + x[1] * p[n-1] + p[n] = y[1]\n",
      "        ...\n",
      "        x[k]**n * p[0] + ... + x[k] * p[n-1] + p[n] = y[k]\n",
      "    \n",
      "    The coefficient matrix of the coefficients `p` is a Vandermonde matrix.\n",
      "    \n",
      "    `polyfit` issues a `RankWarning` when the least-squares fit is badly\n",
      "    conditioned. This implies that the best fit is not well-defined due\n",
      "    to numerical error. The results may be improved by lowering the polynomial\n",
      "    degree or by replacing `x` by `x` - `x`.mean(). The `rcond` parameter\n",
      "    can also be set to a value smaller than its default, but the resulting\n",
      "    fit may be spurious: including contributions from the small singular\n",
      "    values can add numerical noise to the result.\n",
      "    \n",
      "    Note that fitting polynomial coefficients is inherently badly conditioned\n",
      "    when the degree of the polynomial is large or the interval of sample points\n",
      "    is badly centered. The quality of the fit should always be checked in these\n",
      "    cases. When polynomial fits are not satisfactory, splines may be a good\n",
      "    alternative.\n",
      "    \n",
      "    References\n",
      "    ----------\n",
      "    .. [1] Wikipedia, \"Curve fitting\",\n",
      "           https://en.wikipedia.org/wiki/Curve_fitting\n",
      "    .. [2] Wikipedia, \"Polynomial interpolation\",\n",
      "           https://en.wikipedia.org/wiki/Polynomial_interpolation\n",
      "    \n",
      "    Examples\n",
      "    --------\n",
      "    >>> import warnings\n",
      "    >>> x = np.array([0.0, 1.0, 2.0, 3.0,  4.0,  5.0])\n",
      "    >>> y = np.array([0.0, 0.8, 0.9, 0.1, -0.8, -1.0])\n",
      "    >>> z = np.polyfit(x, y, 3)\n",
      "    >>> z\n",
      "    array([ 0.08703704, -0.81349206,  1.69312169, -0.03968254]) # may vary\n",
      "    \n",
      "    It is convenient to use `poly1d` objects for dealing with polynomials:\n",
      "    \n",
      "    >>> p = np.poly1d(z)\n",
      "    >>> p(0.5)\n",
      "    0.6143849206349179 # may vary\n",
      "    >>> p(3.5)\n",
      "    -0.34732142857143039 # may vary\n",
      "    >>> p(10)\n",
      "    22.579365079365115 # may vary\n",
      "    \n",
      "    High-order polynomials may oscillate wildly:\n",
      "    \n",
      "    >>> with warnings.catch_warnings():\n",
      "    ...     warnings.simplefilter('ignore', np.RankWarning)\n",
      "    ...     p30 = np.poly1d(np.polyfit(x, y, 30))\n",
      "    ...\n",
      "    >>> p30(4)\n",
      "    -0.80000000000000204 # may vary\n",
      "    >>> p30(5)\n",
      "    -0.99999999999999445 # may vary\n",
      "    >>> p30(4.5)\n",
      "    -0.10547061179440398 # may vary\n",
      "    \n",
      "    Illustration:\n",
      "    \n",
      "    >>> import matplotlib.pyplot as plt\n",
      "    >>> xp = np.linspace(-2, 6, 100)\n",
      "    >>> _ = plt.plot(x, y, '.', xp, p(xp), '-', xp, p30(xp), '--')\n",
      "    >>> plt.ylim(-2,2)\n",
      "    (-2, 2)\n",
      "    >>> plt.show()\n",
      "\n"
     ]
    }
   ],
   "source": [
    "help(np.polyfit)"
   ]
  },
  {
   "cell_type": "code",
   "execution_count": 60,
   "metadata": {},
   "outputs": [
    {
     "name": "stdout",
     "output_type": "stream",
     "text": [
      "I parametri della retta di fit sono: [-7.03636364  3.09090909]\n"
     ]
    },
    {
     "data": {
      "text/plain": [
       "<matplotlib.legend.Legend at 0x7fe1112eb850>"
      ]
     },
     "execution_count": 60,
     "metadata": {},
     "output_type": "execute_result"
    },
    {
     "data": {
      "image/png": "[encoded data removed]",
      "text/plain": [
       "<Figure size 648x360 with 1 Axes>"
      ]
     },
     "metadata": {
      "needs_background": "light"
     },
     "output_type": "display_data"
    }
   ],
   "source": [
    "import seaborn as sns\n",
    "import numpy as np\n",
    "\n",
    "turns = [0, 1, 2, 3, 4, 5, 6, 7, 8, 9, 10]\n",
    "position = [0, -2, -11, -15, -24, -32, -40, -50, -52, -62, -65]\n",
    "\n",
    "fit = np.polyfit(turns, position, 1)\n",
    "print(\"I parametri della retta di fit sono: %s\" % fit)\n",
    "\n",
    "fig, ax = plt.subplots(figsize=(9,5))\n",
    "sns.lineplot(turns, [fit[1] + fit[0] * t for t in turns], label='theoretical')\n",
    "sns.lineplot(turns, position, label='observations', marker=\"o\")\n",
    "\n",
    "lower = [p - 5.7 for p in position]\n",
    "upper = [p + 5.7 for p in position]\n",
    "\n",
    "ax.plot(turns, lower, color='tab:blue', alpha=0.1)\n",
    "ax.plot(turns, upper, color='tab:blue', alpha=0.1)\n",
    "ax.fill_between(turns, lower, upper, alpha=0.2)\n",
    "\n",
    "ax.legend(loc='upper right')"
   ]
  },
  {
   "cell_type": "markdown",
   "metadata": {},
   "source": [
    "[Clicca qui per tornare all'inizio della pagina](#start)<a id='start'></a>"
   ]
  }
 ],
 "metadata": {
  "kernelspec": {
   "display_name": "Python 3",
   "language": "python",
   "name": "python3"
  },
  "language_info": {
   "codemirror_mode": {
    "name": "ipython",
    "version": 3
   },
   "file_extension": ".py",
   "mimetype": "text/x-python",
   "name": "python",
   "nbconvert_exporter": "python",
   "pygments_lexer": "ipython3",
   "version": "3.9.10"
  },
  "nbTranslate": {
   "displayLangs": [
    "*"
   ],
   "hotkey": "alt-t",
   "langInMainMenu": true,
   "sourceLang": "en",
   "targetLang": "fr",
   "useGoogleTranslate": true
  }
 },
 "nbformat": 4,
 "nbformat_minor": 2
}
